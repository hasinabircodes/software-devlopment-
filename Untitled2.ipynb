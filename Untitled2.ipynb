{
  "nbformat": 4,
  "nbformat_minor": 0,
  "metadata": {
    "colab": {
      "provenance": []
    },
    "kernelspec": {
      "name": "python3",
      "display_name": "Python 3"
    },
    "language_info": {
      "name": "python"
    }
  },
  "cells": [
    {
      "cell_type": "code",
      "execution_count": null,
      "metadata": {
        "colab": {
          "base_uri": "https://localhost:8080/"
        },
        "id": "84S50Mvdm9Ee",
        "outputId": "7dedd947-9cec-4a5d-8ee0-e13e331180fb"
      },
      "outputs": [
        {
          "output_type": "stream",
          "name": "stdout",
          "text": [
            "\n",
            "To-Do List Application\n",
            "1. Add Task\n",
            "2. View Tasks\n",
            "3. Delete Task\n",
            "4. Exit\n",
            "Choose an option: 1\n",
            "Enter a new task: sleep\n",
            "Task \"sleep\" added.\n",
            "\n",
            "To-Do List Application\n",
            "1. Add Task\n",
            "2. View Tasks\n",
            "3. Delete Task\n",
            "4. Exit\n"
          ]
        }
      ],
      "source": [
        "\n",
        "tasks = []\n",
        "\n",
        "\n",
        "def add_task(task):\n",
        "    tasks.append(task)\n",
        "    print(f'Task \"{task}\" added.')\n",
        "\n",
        "\n",
        "def view_tasks():\n",
        "    if tasks:\n",
        "        print(\"Your To-Do List:\")\n",
        "        for i, task in enumerate(tasks, start=1):\n",
        "            print(f\"{i}. {task}\")\n",
        "    else:\n",
        "        print(\"Your To-Do List is empty.\")\n",
        "\n",
        "\n",
        "def delete_task(task_number):\n",
        "    if 0 < task_number <= len(tasks):\n",
        "        removed_task = tasks.pop(task_number - 1)\n",
        "        print(f'Task \"{removed_task}\" deleted.')\n",
        "    else:\n",
        "        print(\"Invalid task number.\")\n",
        "\n",
        "while True:\n",
        "    print(\"\\nTo-Do List Application\")\n",
        "    print(\"1. Add Task\")\n",
        "    print(\"2. View Tasks\")\n",
        "    print(\"3. Delete Task\")\n",
        "    print(\"4. Exit\")\n",
        "\n",
        "    choice = input(\"Choose an option: \")\n",
        "    if choice == '1':\n",
        "        task = input(\"Enter a new task: \")\n",
        "        add_task(task)\n",
        "    elif choice == '2':\n",
        "        view_tasks()\n",
        "    elif choice == '3':\n",
        "        view_tasks()\n",
        "        try:\n",
        "            task_number = int(input(\"Enter the task number to delete: \"))\n",
        "            delete_task(task_number)\n",
        "        except ValueError:\n",
        "            print(\"Please enter a valid number.\")\n",
        "    elif choice == '4':\n",
        "        print(\"Exiting To-Do List Application. Goodbye!\")\n",
        "        break\n",
        "    else:\n",
        "        print(\"Invalid choice. Please try again.\")\n"
      ]
    }
  ]
}